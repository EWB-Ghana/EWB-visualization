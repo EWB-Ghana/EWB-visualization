{
 "cells": [
  {
   "cell_type": "markdown",
   "metadata": {
    "colab_type": "text",
    "id": "PCx4-U8LC9q1"
   },
   "source": [
    "# source code"
   ]
  },
  {
   "cell_type": "code",
   "execution_count": 1,
   "metadata": {
    "colab": {},
    "colab_type": "code",
    "id": "GpYH-9Tj6pJY"
   },
   "outputs": [],
   "source": [
    "import os\n",
    "import folium\n",
    "from folium import FeatureGroup, LayerControl, Map, Marker\n",
    "import time\n",
    "import datetime\n",
    "import re\n",
    "import pandas as pd \n",
    "\n",
    "CSV_EXTENSION  = 'csv'\n",
    "EXCEL_EXTENSION = 'xls'\n",
    "\n",
    "# NOTE:\n",
    "# TO-DO\n",
    "# 1. test your functions\n",
    "# 2. add docstrings --> check PEP8/google python docstring conventions\n",
    "#      # minimum requirement:\n",
    "#      # inputs and types, functions, return types\n",
    "# 3. after you finish 1 & 2, put all your functions in master/EWBMappy/your_name.py\n",
    "\n",
    "# Jannie\n",
    "class EWBLayer():\n",
    "    def __init__(self, name, color, df):\n",
    "        self.name = name\n",
    "        self.color = color\n",
    "        self.df = df\n",
    "        self.points = []\n",
    "        self.featureGroup = FeatureGroup(name=name)\n",
    "\n",
    "# ref: https://github.com/python-visualization/folium/issues/460\n",
    "class EWBMap():\n",
    "    # Jannie\n",
    "    def __init__(self):\n",
    "        self.layers = []\n",
    "        self.map = Map(\n",
    "            location=[45.372, -121.6972],\n",
    "            zoom_start=12,\n",
    "            tiles='Stamen Terrain'\n",
    "        )\n",
    "        listOfTiles = ['Stamen Toner', 'openstreetmap']\n",
    "        for tile in listOfTiles:\n",
    "            folium.TileLayer(tile).add_to(self.map) \n",
    "        self.layerNames = []\n",
    "    # Jannie\n",
    "    def makeMapfromLayers(self):\n",
    "        for layer in self.layers:\n",
    "            layer.featureGroup.add_to(self.map)\n",
    "        folium.LayerControl().add_to(self.map)\n",
    "    # Chen\n",
    "    def recenter(self, string = \"all\"):\n",
    "        # center around the town - hardcode location TBD\n",
    "        if string == 'town':\n",
    "            x = 45.5236\n",
    "            y = -122.6750\n",
    "            self.map.location = [x, y]\n",
    "\n",
    "        elif string in self.layerNames:\n",
    "            xMin, xMax, yMin, yMax = [100, -100, 181, -181]\n",
    "            idx = self.layerNames.index(string)\n",
    "            layer = self.layers[idx]\n",
    "            # layer.df[0] - latitutde, layer.df[1] - longitude --> I know this looks ugly\n",
    "            # but is only meant to be a quick fix, will be optimized later\n",
    "            xMin = min(xMin, min(layer.df.iloc[:,0]))\n",
    "            xMax = max(xMax, max(layer.df.iloc[:,0]))\n",
    "            yMin = min(yMin, min(layer.df.iloc[:,1]))\n",
    "            yMax = max(yMax, max(layer.df.iloc[:,1]))\n",
    "            # adjust the map bound according the upper and lower bound of the dataset\n",
    "            self.map.fit_bounds([[xMin, yMin], [xMax, yMax]])\n",
    "        \n",
    "        elif string == 'all':\n",
    "            xMin, xMax, yMin, yMax = [100, -100, 181, -181]\n",
    "            for layer in self.layers:\n",
    "                xMin = min(xMin, min(layer.df.iloc[:,0]))\n",
    "                xMax = max(xMax, max(layer.df.iloc[:,0]))\n",
    "                yMin = min(yMin, min(layer.df.iloc[:,1]))\n",
    "                yMax = max(yMax, max(layer.df.iloc[:,1]))\n",
    "            # adjust the map bound according the upper and lower bound of the dataset\n",
    "            self.map.fit_bounds([[xMin, yMin], [xMax, yMax]])\n",
    "        # if the input string does not match any of the options\n",
    "        else:\n",
    "            print(f\"ERROR: wrong string input: {string}\\n, valid inputs are: {self.layerNames} or 'all' or 'town\")\n",
    "\n",
    "# Nicolas\n",
    "def determine_extension(filename: str) -> str:\n",
    "    \"\"\"\n",
    "    Returns type of extension constant  associated with a Filename.\n",
    "    If Extension is not supperted IOError is raised.\n",
    "    \"\"\"\n",
    "    name_pattern = r'.*'\n",
    "    excel_reg = re.compile(name_pattern + r'.(xls|xlsx|xlsm|xlsb|xls)$')\n",
    "    csv_reg = re.compile(name_pattern + r'.csv$')\n",
    "    extension = None\n",
    "        \n",
    "    if excel_reg.match(filename):\n",
    "        extension = EXCEL_EXTENSION\n",
    "    elif csv_reg.match(filename):\n",
    "        extension = CSV_EXTENSION\n",
    "    else:\n",
    "        error_msg = \"File extension or name of \" + filename\n",
    "        error_msg += \" not supported. Use csv or excel documents\"\n",
    "        raise IOError(error_msg)\n",
    "    \n",
    "    return extension\n",
    "\n",
    "# Nicolas\n",
    "def get_dataframe(filename: str) -> pd.DataFrame:\n",
    "    \"\"\"\n",
    "    Returns a dataframe from an excel or csv file\n",
    "    \"\"\"\n",
    "    \n",
    "    extension = determine_extension(filename)\n",
    "    df = None\n",
    "    if extension == EXCEL_EXTENSION:\n",
    "        df = pd.read_excel(filename)\n",
    "    elif extension == CSV_EXTENSION:\n",
    "        df = pd.read_csv(filename)\n",
    "    else:\n",
    "        error_msg = \"File extension or name of \" + filename\n",
    "        error_msg += \" not supported. Use csv or excel documents\"\n",
    "        raise IOError(error_msg)\n",
    "    # doing validation, modification, and dataframe making at the same time\n",
    "    # could be a terribly bad idea but a quick fix for now --Chen\n",
    "    for i in range(df.shape[0]):\n",
    "        for j in range(2):\n",
    "            string = df.iloc[i, j]\n",
    "            if type(string) == str and '°' in string:\n",
    "                df.iloc[i,j] = conv_coord(string)\n",
    "    return df\n",
    "\n",
    "# Toby\n",
    "def conv_coord(deg_notation):\n",
    "    degrees, rest = deg_notation.split('°', 1)\n",
    "    minutes, rest = rest.split(\"'\", 1)\n",
    "    seconds, direction = rest.split('\"', 1)\n",
    "    dec_notation = float(degrees) + float(minutes)/60 + float(seconds)/3600\n",
    "    \n",
    "    if direction == 'S' or direction == 'W':\n",
    "        dec_notation = -dec_notation\n",
    "\n",
    "    return dec_notation\n",
    "\n",
    "# Nicolas\n",
    "def get_map(files: list) -> EWBMap:\n",
    "    \"\"\"\"\n",
    "    Returns a map object read from a csv or excel file\n",
    "    \"\"\"\n",
    "    map_object = EWBMap()\n",
    "    for f in files:\n",
    "        layer = get_layer(f)\n",
    "        map_object.layers.append(layer)\n",
    "        map_object.layerNames.append(layer.name)\n",
    "    map_object.makeMapfromLayers()\n",
    "    map_object.recenter()\n",
    "    return map_object\n",
    "\n",
    "# Chen\n",
    "def get_layer(filename: str) -> EWBLayer:\n",
    "    map_df = get_dataframe(filename)\n",
    "    layername, color, _= re.split(',|_|-|\\\\.',filename.replace(' ', ''))\n",
    "    layer_object = EWBLayer(layername, color, map_df)\n",
    "\n",
    "    for row in map_df.itertuples():\n",
    "        tmpRow = list(row)\n",
    "        make_popups(layer_object.featureGroup, tmpRow[1], tmpRow[2], tmpRow[3], \n",
    "                    tmpRow[4], tmpRow[5], tmpRow[6], layer_object.color)\n",
    "\n",
    "    return layer_object\n",
    "   \n",
    "# Toby\n",
    "def make_popups(layer, lat, lon, title, date=\"\", description=\"\", icon=\"home\", color=\"lightgray\"):\n",
    "    if date == \"\":\n",
    "        date = datetime.datetime.now()\n",
    "    folium.Marker(\n",
    "        location = [lat, lon],\n",
    "        icon = folium.Icon(icon=icon, color=color, prefix='fa'),\n",
    "        tooltip = title,\n",
    "        popup = folium.Popup(\n",
    "                    folium.Html('<b>%s</b> <br> <i>%s</i> <br> %s' %(title, date, description), script=True),\n",
    "                    # min_width=100,=> this is no longer valid\n",
    "                    max_width=450)\n",
    "        ).add_to(layer)\n",
    "    \n",
    "    \n",
    "# Danny (--> there is another data validation function not uploaded to this notebook to test too)\n",
    "def map_to_html (m, map_name, file_path =\"\"):\n",
    "    if file_path != \"\" and file_path[-1]!= '/':\n",
    "        file_path = file_path+\"/\"\n",
    "    path = file_path+map_name+\".html\"\n",
    "    m.save(path)\n",
    "    return path\n",
    "\n",
    "# still not working :/\n",
    "# we will not continue developing this function, I only keep this here for record keeping. --Chen\n",
    "def map_to_png(m, map_name, file_path =\"\", browser= 'Chrome'):\n",
    "    if file_path != \"\" and file_path[-1]!= '/':\n",
    "        file_path = file_path+\"/\"\n",
    "    fn = map_name+\".html\"\n",
    "    m.save(fn)\n",
    "    tmpurl='file://{path}/{mapfile}'.format(path=os.getcwd(),mapfile=fn)\n",
    "    delay =5\n",
    "    if browser == 'Safari':\n",
    "        browser = webdriver.Safari()\n",
    "    elif browser == 'Firefox':\n",
    "        browser = webdriver.Firefox()\n",
    "    else:\n",
    "        browser = webdriver.Chrome()\n",
    "    options = webdriver.ChromeOptions()\n",
    "    options.binary_location = \"./chromedriver.exe\"    #chrome binary location specified here\n",
    "    options.add_argument(\"--start-maximized\") #open Browser in maximized mode\n",
    "    options.add_argument(\"--no-sandbox\") #bypass OS security model\n",
    "    options.add_argument(\"--disable-dev-shm-usage\") #overcome limited resource problems\n",
    "    options.add_experimental_option(\"excludeSwitches\", [\"enable-automation\"])\n",
    "    options.add_experimental_option('useAutomationExtension', False)\n",
    "    brower = webdriver.Chrome(options=options, executable_path=r'./chromedriver.exe')\n",
    "    # browser.get('http://google.com/')\n",
    "    \n",
    "    browser.get(tmpurl)\n",
    "    # time.sleep(delay)\n",
    "    # browser.save_screenshot(file_path+map_name+'.png')\n",
    "    # browser.quit()\n",
    "\n"
   ]
  },
  {
   "cell_type": "markdown",
   "metadata": {
    "colab_type": "text",
    "id": "L3-hY7M6DCfm"
   },
   "source": [
    "# user code"
   ]
  },
  {
   "cell_type": "code",
   "execution_count": 1,
   "metadata": {
    "colab": {
     "base_uri": "https://localhost:8080/",
     "height": 124
    },
    "colab_type": "code",
    "id": "jeapY2z262Wj",
    "outputId": "a7abcc27-52b6-4eda-ec41-101f2771a73b"
   },
   "outputs": [
    {
     "name": "stdout",
     "output_type": "stream",
     "text": [
      "Go to this URL in a browser: https://accounts.google.com/o/oauth2/auth?client_id=947318989803-6bn6qk8qdgf4n4g3pfee6491hc0brc4i.apps.googleusercontent.com&redirect_uri=urn%3aietf%3awg%3aoauth%3a2.0%3aoob&scope=email%20https%3a%2f%2fwww.googleapis.com%2fauth%2fdocs.test%20https%3a%2f%2fwww.googleapis.com%2fauth%2fdrive%20https%3a%2f%2fwww.googleapis.com%2fauth%2fdrive.photos.readonly%20https%3a%2f%2fwww.googleapis.com%2fauth%2fpeopleapi.readonly&response_type=code\n",
      "\n",
      "Enter your authorization code:\n",
      "··········\n",
      "Mounted at /content/drive\n"
     ]
    }
   ],
   "source": [
    "# run this cell if notebook is executed in Google Colab\n",
    "# ignore if run in jupyter notebook\n",
    "from google.colab import drive\n",
    "drive.mount('/content/drive')"
   ]
  },
  {
   "cell_type": "code",
   "execution_count": 61,
   "metadata": {
    "colab": {
     "base_uri": "https://localhost:8080/",
     "height": 87
    },
    "colab_type": "code",
    "id": "dkUuyeBG6pJ0",
    "outputId": "d4b26426-410c-4671-b1b6-e3556e050492"
   },
   "outputs": [
    {
     "name": "stdout",
     "output_type": "stream",
     "text": [
      "/content/drive/My Drive/Colab Notebooks/folium\n",
      "app_update.ipynb  sample_blue.xlsx  Surveyees_orange.xlsx    vertical_red.xlsx\n",
      "chromedriver.exe  sampleHTML.html   Surveyees,Yellow.csv\n",
      "folium.ipynb\t  samplePNG.html    Surveyees,Yellow.gsheet\n"
     ]
    }
   ],
   "source": [
    "# change the directory to where you store the notebook and the excel/csv file\n",
    "%cd /content/drive/My Drive/Colab Notebooks/folium\n",
    "!ls"
   ]
  },
  {
   "cell_type": "code",
   "execution_count": 3,
   "metadata": {
    "colab": {
     "base_uri": "https://localhost:8080/",
     "height": 35
    },
    "colab_type": "code",
    "id": "OwUHcP0h6pJ4",
    "outputId": "32a1eb63-e7c9-4577-f20d-5e886908b9f0"
   },
   "outputs": [
    {
     "data": {
      "text/plain": [
       "'./sampleHTML.html'"
      ]
     },
     "execution_count": 3,
     "metadata": {},
     "output_type": "execute_result"
    }
   ],
   "source": [
    "# test cases\n",
    "# construction block\n",
    "sampleMap = get_map(['Surveyees_orange.xlsx'])\n",
    "map_to_html(sampleMap.map, 'sampleHTML', '.')\n",
    "# sampleMap.map"
   ]
  },
  {
   "cell_type": "code",
   "execution_count": 4,
   "metadata": {
    "colab": {
     "base_uri": "https://localhost:8080/",
     "height": 707
    },
    "colab_type": "code",
    "id": "T8cu6k5eetIq",
    "outputId": "d9706ffd-a2ba-43e7-dc51-4a015d918d9b"
   },
   "outputs": [
    {
     "data": {
      "text/html": [
       "<div style=\"width:100%;\"><div style=\"position:relative;width:100%;height:0;padding-bottom:60%;\"><span style=\"color:#565656\">Make this Notebook Trusted to load map: File -> Trust Notebook</span><iframe src=\"about:blank\" style=\"position:absolute;width:100%;height:100%;left:0;top:0;border:none !important;\" data-html=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 onload=\"this.contentDocument.open();this.contentDocument.write(atob(this.getAttribute('data-html')));this.contentDocument.close();\" allowfullscreen webkitallowfullscreen mozallowfullscreen></iframe></div></div>"
      ],
      "text/plain": [
       "<folium.folium.Map at 0x1af8b072ec8>"
      ]
     },
     "execution_count": 4,
     "metadata": {},
     "output_type": "execute_result"
    }
   ],
   "source": [
    "# visualization block\n",
    "sampleMap.recenter()\n",
    "sampleMap.map"
   ]
  },
  {
   "cell_type": "code",
   "execution_count": null,
   "metadata": {},
   "outputs": [],
   "source": []
  }
 ],
 "metadata": {
  "colab": {
   "collapsed_sections": [],
   "name": "app_update_0825.ipynb",
   "provenance": []
  },
  "kernelspec": {
   "display_name": "Python 3",
   "language": "python",
   "name": "python3"
  },
  "language_info": {
   "codemirror_mode": {
    "name": "ipython",
    "version": 3
   },
   "file_extension": ".py",
   "mimetype": "text/x-python",
   "name": "python",
   "nbconvert_exporter": "python",
   "pygments_lexer": "ipython3",
   "version": "3.7.4"
  }
 },
 "nbformat": 4,
 "nbformat_minor": 1
}
